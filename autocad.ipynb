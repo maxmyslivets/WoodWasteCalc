{
 "cells": [
  {
   "cell_type": "code",
   "execution_count": 106,
   "metadata": {
    "collapsed": true
   },
   "outputs": [],
   "source": [
    "import ezdxf\n",
    "from ezdxf.addons import MTextExplode\n",
    "from shapely.geometry import LineString, Polygon, Point\n",
    "from openpyxl import Workbook\n",
    "from pprint import pprint"
   ]
  },
  {
   "cell_type": "code",
   "execution_count": 117,
   "outputs": [],
   "source": [
    "# Функция для преобразования MText в текст\n",
    "# def convert_mtext_to_text(doc):\n",
    "#     # FIXME: Текст преобразуется с символами форматирования\n",
    "#     for mtext in doc.modelspace().query('MTEXT'):\n",
    "#         text = doc.modelspace().add_text(mtext.dxf.text, dxfattribs={\n",
    "#             'insert': mtext.dxfattribs()[\"insert\"],\n",
    "#             'height': mtext.dxfattribs()[\"char_height\"],\n",
    "#             'style': mtext.dxfattribs()[\"style\"],\n",
    "#         })\n",
    "#         doc.modelspace().delete_entity(mtext)\n",
    "\n",
    "# def convert_text_to_mtext(doc):\n",
    "#         for text in doc.modelspace().query('TEXT'):\n",
    "#             mtext = doc.modelspace().add_mtext(text.dxf.text, dxfattribs={\n",
    "#                 'insert': text.dxfattribs()[\"insert\"],\n",
    "#                 'char_height': text.dxfattribs()[\"height\"],\n",
    "#                 'style': text.dxfattribs()[\"style\"],\n",
    "#             })\n",
    "#             doc.modelspace().delete_entity(mtext)\n",
    "\n",
    "def explode_mtext(doc):\n",
    "    # FIXME: Текст с обозначением площади разбивается на две строки\n",
    "    # FIXME: Возможно удастся исправить через регулярные выражение\n",
    "    msp = doc.modelspace()\n",
    "    with MTextExplode(msp) as xpl:\n",
    "        for mtext in msp.query(\"MTEXT\"):\n",
    "            xpl.explode(mtext)"
   ],
   "metadata": {
    "collapsed": false
   }
  },
  {
   "cell_type": "code",
   "execution_count": 5,
   "outputs": [],
   "source": [
    "# Функция для определения центра текста\n",
    "def get_text_center(text):\n",
    "    bbox = text.bbox()\n",
    "    center_x = (bbox.extmin.x + bbox.extmax.x) / 2\n",
    "    center_y = (bbox.extmin.y + bbox.extmax.y) / 2\n",
    "    return center_x, center_y"
   ],
   "metadata": {
    "collapsed": false
   }
  },
  {
   "cell_type": "code",
   "execution_count": 47,
   "outputs": [],
   "source": [
    "# Функция для создания бесконечных линий на основе отрезков\n",
    "def create_infinite_lines(entities):\n",
    "    infinite_lines = []\n",
    "    for entity in entities:\n",
    "        if entity.dxftype() in ['LINE', 'LWPOLYLINE', 'POLYLINE']:\n",
    "            vec_start = list(entity.vertices_in_wcs())[0]\n",
    "            vec_end = list(entity.vertices_in_wcs())[-1]\n",
    "            start = [vec_start.x, vec_start.y]\n",
    "            end = [vec_end.x, vec_end.y]\n",
    "            # Создаем бесконечные линии, задавая их как LineString\n",
    "            line = LineString([start, end]).parallel_offset(1000, 'left').parallel_offset(1000, 'right')\n",
    "            infinite_lines.append(line)\n",
    "    return infinite_lines"
   ],
   "metadata": {
    "collapsed": false
   }
  },
  {
   "cell_type": "code",
   "execution_count": 3,
   "outputs": [],
   "source": [
    "# Функция для нахождения замкнутых прямоугольников (ячейки таблицы)\n",
    "def find_rectangles(infinite_lines):    # FIXME: добавить функцию очистки ячеек по площади\n",
    "    rectangles = []\n",
    "    for i, line1 in enumerate(infinite_lines):\n",
    "        for j, line2 in enumerate(infinite_lines):\n",
    "            if i != j:\n",
    "                # Проверяем, пересекаются ли линии\n",
    "                intersection = line1.intersection(line2)\n",
    "                if isinstance(intersection, Point):\n",
    "                    # Если пересекаются, создаем прямоугольники\n",
    "                    rect = Polygon([line1.coords[0], line1.coords[1], line2.coords[0], line2.coords[1]])\n",
    "                    rectangles.append(rect)\n",
    "    return rectangles"
   ],
   "metadata": {
    "collapsed": false
   }
  },
  {
   "cell_type": "code",
   "execution_count": 8,
   "outputs": [],
   "source": [
    "# Функция для записи данных в Excel\n",
    "def write_to_excel(data):\n",
    "    wb = Workbook()\n",
    "    ws = wb.active\n",
    "    ws.title = \"Table Data\"\n",
    "\n",
    "    # Записываем данные\n",
    "    for i, row in enumerate(data, start=1):\n",
    "        for j, value in enumerate(row, start=1):\n",
    "            ws.cell(row=i, column=j, value=value)\n",
    "\n",
    "    wb.save(\"data/dxf_for_parse/table_data.xlsx\")"
   ],
   "metadata": {
    "collapsed": false
   }
  },
  {
   "cell_type": "code",
   "execution_count": 118,
   "outputs": [],
   "source": [
    "file_path = 'data/dxf_for_parse/test1.dxf'\n",
    "doc = ezdxf.readfile(file_path)\n",
    "\n",
    "# Преобразуем MText в Text\n",
    "explode_mtext(doc)\n",
    "\n",
    "# # Определяем координаты центров текстовых объектов\n",
    "# mtext_entities = doc.modelspace().query('MTEXT')\n",
    "# text_centers = [(mtext, get_text_center(mtext)) for mtext in mtext_entities]\n",
    "#\n",
    "# # Преобразуем все линии в бесконечные отрезки\n",
    "# lines = doc.modelspace().query('LINE LWPOLYLINE POLYLINE')\n",
    "# infinite_lines = create_infinite_lines(lines)\n",
    "#\n",
    "# # Находим замкнутые прямоугольники (ячейки)\n",
    "# rectangles = find_rectangles(infinite_lines)\n",
    "#\n",
    "# # Связываем текст с ячейками\n",
    "# data = []\n",
    "# for mtext, center in text_centers:\n",
    "#     for rect in rectangles:\n",
    "#         if rect.contains(Point(center)):\n",
    "#             data.append([mtext.get_text(), center, rect.bounds])\n",
    "#             break\n",
    "#\n",
    "# # Записываем результат в Excel\n",
    "# write_to_excel(data)\n",
    "\n",
    "doc.saveas(\"data/dxf_for_parse/test1_output.dxf\")"
   ],
   "metadata": {
    "collapsed": false
   }
  }
 ],
 "metadata": {
  "kernelspec": {
   "display_name": "Python 3",
   "language": "python",
   "name": "python3"
  },
  "language_info": {
   "codemirror_mode": {
    "name": "ipython",
    "version": 2
   },
   "file_extension": ".py",
   "mimetype": "text/x-python",
   "name": "python",
   "nbconvert_exporter": "python",
   "pygments_lexer": "ipython2",
   "version": "2.7.6"
  }
 },
 "nbformat": 4,
 "nbformat_minor": 0
}
